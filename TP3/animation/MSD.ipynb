{
 "cells": [
  {
   "cell_type": "code",
   "execution_count": 1,
   "metadata": {},
   "outputs": [
    {
     "ename": "ValueError",
     "evalue": "operands could not be broadcast together with shapes (295,) (294,) ",
     "output_type": "error",
     "traceback": [
      "\u001b[1;31m---------------------------------------------------------------------------\u001b[0m",
      "\u001b[1;31mValueError\u001b[0m                                Traceback (most recent call last)",
      "Cell \u001b[1;32mIn[1], line 8\u001b[0m\n\u001b[0;32m      6\u001b[0m \u001b[39mfor\u001b[39;00m N \u001b[39min\u001b[39;00m listN:\n\u001b[0;32m      7\u001b[0m     particles_dict \u001b[39m=\u001b[39m parseGasDiffusionFile(\u001b[39mf\u001b[39m\u001b[39m\"\u001b[39m\u001b[39m../simulator/src/main/resources/benchmark/N_\u001b[39m\u001b[39m{\u001b[39;00mN\u001b[39m}\u001b[39;00m\u001b[39m/N_\u001b[39m\u001b[39m{\u001b[39;00mN\u001b[39m}\u001b[39;00m\u001b[39m_L_0.09_it_0.txt\u001b[39m\u001b[39m\"\u001b[39m)\n\u001b[1;32m----> 8\u001b[0m     calculate_MSD_and_plot(particles_dict, N)\n",
      "File \u001b[1;32me:\\ITBA\\4º Año\\Simulacion de Sistemas\\TPs-SS\\TP3\\animation\\utils\\plots.py:151\u001b[0m, in \u001b[0;36mcalculate_MSD_and_plot\u001b[1;34m(data_dict, N)\u001b[0m\n\u001b[0;32m    147\u001b[0m     B \u001b[39m=\u001b[39m (sum_MSD \u001b[39m-\u001b[39m A \u001b[39m*\u001b[39m sum_t) \u001b[39m/\u001b[39m N\n\u001b[0;32m    149\u001b[0m     \u001b[39mreturn\u001b[39;00m A, B\n\u001b[1;32m--> 151\u001b[0m A, B \u001b[39m=\u001b[39m fit_linear(fit_times, fit_MSD)\n\u001b[0;32m    153\u001b[0m \u001b[39m# Coeficiente de difusión D es la pendiente dividida por 4\u001b[39;00m\n\u001b[0;32m    154\u001b[0m D \u001b[39m=\u001b[39m A \u001b[39m/\u001b[39m \u001b[39m4\u001b[39m\n",
      "File \u001b[1;32me:\\ITBA\\4º Año\\Simulacion de Sistemas\\TPs-SS\\TP3\\animation\\utils\\plots.py:143\u001b[0m, in \u001b[0;36mcalculate_MSD_and_plot.<locals>.fit_linear\u001b[1;34m(fit_times, fit_MSD)\u001b[0m\n\u001b[0;32m    141\u001b[0m sum_t \u001b[39m=\u001b[39m np\u001b[39m.\u001b[39msum(fit_times)\n\u001b[0;32m    142\u001b[0m sum_MSD \u001b[39m=\u001b[39m np\u001b[39m.\u001b[39msum(fit_MSD)\n\u001b[1;32m--> 143\u001b[0m sum_t_MSD \u001b[39m=\u001b[39m np\u001b[39m.\u001b[39msum(fit_times \u001b[39m*\u001b[39;49m fit_MSD)\n\u001b[0;32m    144\u001b[0m sum_t_squared \u001b[39m=\u001b[39m np\u001b[39m.\u001b[39msum(fit_times \u001b[39m*\u001b[39m\u001b[39m*\u001b[39m \u001b[39m2\u001b[39m)\n\u001b[0;32m    146\u001b[0m A \u001b[39m=\u001b[39m (N \u001b[39m*\u001b[39m sum_t_MSD \u001b[39m-\u001b[39m sum_t \u001b[39m*\u001b[39m sum_MSD) \u001b[39m/\u001b[39m (N \u001b[39m*\u001b[39m sum_t_squared \u001b[39m-\u001b[39m sum_t \u001b[39m*\u001b[39m\u001b[39m*\u001b[39m \u001b[39m2\u001b[39m)\n",
      "\u001b[1;31mValueError\u001b[0m: operands could not be broadcast together with shapes (295,) (294,) "
     ]
    }
   ],
   "source": [
    "from utils.plots import calculate_MSD_and_plot \n",
    "from utils.particlesParser import parseGasDiffusionFile\n",
    "\n",
    "listN = [200, 300, 400]\n",
    "\n",
    "for N in listN:\n",
    "    particles_dict = parseGasDiffusionFile(f\"../simulator/src/main/resources/benchmark/N_{N}/N_{N}_L_0.09_it_0.txt\")\n",
    "    calculate_MSD_and_plot(particles_dict, N)\n"
   ]
  }
 ],
 "metadata": {
  "kernelspec": {
   "display_name": "Python 3",
   "language": "python",
   "name": "python3"
  },
  "language_info": {
   "codemirror_mode": {
    "name": "ipython",
    "version": 3
   },
   "file_extension": ".py",
   "mimetype": "text/x-python",
   "name": "python",
   "nbconvert_exporter": "python",
   "pygments_lexer": "ipython3",
   "version": "3.10.10"
  },
  "orig_nbformat": 4
 },
 "nbformat": 4,
 "nbformat_minor": 2
}
