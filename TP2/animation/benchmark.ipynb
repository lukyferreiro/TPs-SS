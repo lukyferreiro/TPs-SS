{
 "cells": [
  {
   "cell_type": "code",
   "execution_count": null,
   "id": "72f7e5f5",
   "metadata": {
    "scrolled": false
   },
   "outputs": [],
   "source": [
    "import json\n",
    "from utils.dataConfig import DataConfig\n",
    "from utils.particlesParser import parseOffLatticeFile, parseOrderParameterVaFile\n",
    "\n",
    "BASE = '../simulator/'\n",
    "TO_CONFIG_METHOD = BASE + 'src/main/resources/configMethod.json'\n",
    "\n",
    "with open(TO_CONFIG_METHOD, 'r') as f:\n",
    "    config = json.load(f)\n",
    "\n",
    "c = DataConfig(config)\n",
    "TO_STATIC = BASE + c.staticFile\n",
    "TO_DYNAMIC = BASE + c.dynamicFile\n",
    "TO_OFF_LATTICE = BASE + c.outOffLatticeFile\n",
    "TO_VA = BASE + c.outOrderParametersVaFile\n",
    "\n",
    "particles_dict = parseOffLatticeFile(TO_OFF_LATTICE)\n",
    "N, L, Rc, eta, iterations, order_parameters = parseOrderParameterVaFile(TO_VA)\n",
    "\n"
   ]
  }
 ],
 "metadata": {
  "kernelspec": {
   "display_name": "Python 3 (ipykernel)",
   "language": "python",
   "name": "python3"
  },
  "language_info": {
   "codemirror_mode": {
    "name": "ipython",
    "version": 3
   },
   "file_extension": ".py",
   "mimetype": "text/x-python",
   "name": "python",
   "nbconvert_exporter": "python",
   "pygments_lexer": "ipython3",
   "version": "3.10.10"
  }
 },
 "nbformat": 4,
 "nbformat_minor": 5
}
