{
 "cells": [
  {
   "cell_type": "code",
   "execution_count": null,
   "metadata": {},
   "outputs": [],
   "source": [
    "import matplotlib.pyplot as plt\n",
    "from utils.particlesParser import parsePhiValues\n",
    "import numpy as np\n",
    "\n",
    "DTS = [1,2,3,4]  \n",
    "FILE = '../simulator/src/main/resources/unidimensional_particles/benchmark/phi/phiValues.txt'\n",
    "\n",
    "phiValues = parsePhiValues(FILE)\n",
    "\n",
    "plt.figure(figsize=(12, 6))\n",
    "for key, values in phiValues.items():\n",
    "    phi_values = [float(value) for value in values['phiValues']]  \n",
    "    x = np.arange(0.0, 180.0, 0.1)\n",
    "    plt.loglog(x, phi_values, '-', label=f\"k={DTS[key]} ($10^{{-{int(DTS[key])}}}$)\")\n",
    "\n",
    "\n",
    "plt.xlabel('Tiempo (s)')\n",
    "plt.ylabel('$Φ^k(t)$')\n",
    "plt.legend()\n",
    "plt.tight_layout()\n",
    "plt.show()\n",
    "\n",
    "plt.figure(figsize=(12, 6))\n",
    "for key, values in phiValues.items():\n",
    "    phi_values = [float(value) for value in values['phiValues']]  \n",
    "    x = np.arange(0.0, 180.0, 0.1)\n",
    "    plt.plot(x, phi_values, '-', label=f\"k={DTS[key]} ($10^{{-{int(DTS[key])}}}$)\")\n",
    "\n",
    "\n",
    "plt.xlabel('Tiempo (s)')\n",
    "plt.ylabel('$Φ^k(t)$')\n",
    "plt.legend()\n",
    "plt.tight_layout()\n",
    "plt.show()"
   ]
  },
  {
   "cell_type": "code",
   "execution_count": null,
   "metadata": {},
   "outputs": [],
   "source": [
    "import matplotlib.pyplot as plt\n",
    "from utils.particlesParser import parseVelocityValues\n",
    "import numpy as np\n",
    "\n",
    "Ns = [5,10,15,20,25,30]  \n",
    "DT = 0.1\n",
    "x = np.arange(0.0, 180.0, DT)\n",
    "\n",
    "FILE = '../simulator/src/main/resources/unidimensional_particles/benchmark/velocity/velocityValues.txt'\n",
    "\n",
    "velocityValues = parseVelocityValues(FILE)\n",
    "\n",
    "plt.figure(figsize=(12, 6))\n",
    "count = 0\n",
    "for key, values in velocityValues.items():\n",
    "    velocity_values = [float(value) for value in values['velocityValues']]  \n",
    "    errors_values = [float(error) for error in values['errors']]  \n",
    "    plt.plot(x, velocity_values, '-', marker='o', label=Ns[count])\n",
    "    #plt.errorbar(x, yerr=errors_values, fmt='o', capsize=4, ecolor=\"black\")\n",
    "    count += 1\n",
    "\n",
    "\n",
    "plt.xlabel('Tiempo (s)')\n",
    "plt.ylabel('Velocidad promedio (m/s)')\n",
    "plt.legend()\n",
    "plt.tight_layout()\n",
    "plt.show()"
   ]
  }
 ],
 "metadata": {
  "kernelspec": {
   "display_name": "Python 3",
   "language": "python",
   "name": "python3"
  },
  "language_info": {
   "codemirror_mode": {
    "name": "ipython",
    "version": 3
   },
   "file_extension": ".py",
   "mimetype": "text/x-python",
   "name": "python",
   "nbconvert_exporter": "python",
   "pygments_lexer": "ipython3",
   "version": "3.10.10"
  },
  "orig_nbformat": 4
 },
 "nbformat": 4,
 "nbformat_minor": 2
}
