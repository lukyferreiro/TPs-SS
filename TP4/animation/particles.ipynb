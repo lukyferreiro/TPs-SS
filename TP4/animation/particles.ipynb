{
 "cells": [
  {
   "cell_type": "code",
   "execution_count": null,
   "metadata": {},
   "outputs": [],
   "source": [
    "import matplotlib.pyplot as plt\n",
    "from utils.particlesParser import parsePhiValues\n",
    "import numpy as np\n",
    "\n",
    "DTS = [1e-1, 1e-2, 1e-3, 1e-4]  \n",
    "FILE = '../simulator/src/main/resources/unidimensional_particles/benchmark/phiValues.txt'\n",
    "\n",
    "phiValues = parsePhiValues(FILE)\n",
    "\n",
    "plt.figure(figsize=(12, 6))\n",
    "for key, values in phiValues.items():\n",
    "    phi_values = [float(value) for value in values['phiValues']]  \n",
    "    x = np.arange(0.0, 180.0, 0.1)\n",
    "    print(x)\n",
    "    plt.loglog(range(0,len(phi_values)), phi_values,  '-', marker='o', label=DTS[key])\n",
    "    #plt.loglog(x[:len(phi_values)], phi_values,  '-', marker='o', label=DTS[key])\n",
    "\n",
    "\n",
    "plt.xlabel('Tiempo (s)')\n",
    "plt.ylabel('PHI')\n",
    "plt.legend()\n",
    "plt.tight_layout()\n",
    "plt.show()"
   ]
  }
 ],
 "metadata": {
  "kernelspec": {
   "display_name": "Python 3",
   "language": "python",
   "name": "python3"
  },
  "language_info": {
   "codemirror_mode": {
    "name": "ipython",
    "version": 3
   },
   "file_extension": ".py",
   "mimetype": "text/x-python",
   "name": "python",
   "nbconvert_exporter": "python",
   "pygments_lexer": "ipython3",
   "version": "3.10.10"
  },
  "orig_nbformat": 4
 },
 "nbformat": 4,
 "nbformat_minor": 2
}
